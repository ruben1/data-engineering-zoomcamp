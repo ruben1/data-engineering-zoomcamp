{
 "cells": [
  {
   "cell_type": "code",
   "execution_count": 12,
   "metadata": {},
   "outputs": [],
   "source": [
    "import findspark\n",
    "findspark.init()\n",
    "\n",
    "import pyspark\n",
    "from pyspark.sql import SparkSession"
   ]
  },
  {
   "cell_type": "code",
   "execution_count": 2,
   "metadata": {},
   "outputs": [
    {
     "name": "stdout",
     "output_type": "stream",
     "text": [
      "25/02/25 06:10:08 WARN Utils: Your hostname, spark2 resolves to a loopback address: 127.0.1.1; using 192.168.69.5 instead (on interface enp0s1)\n",
      "25/02/25 06:10:08 WARN Utils: Set SPARK_LOCAL_IP if you need to bind to another address\n"
     ]
    },
    {
     "name": "stderr",
     "output_type": "stream",
     "text": [
      "Setting default log level to \"WARN\".\n",
      "To adjust logging level use sc.setLogLevel(newLevel). For SparkR, use setLogLevel(newLevel).\n"
     ]
    },
    {
     "name": "stdout",
     "output_type": "stream",
     "text": [
      "25/02/25 06:10:09 WARN NativeCodeLoader: Unable to load native-hadoop library for your platform... using builtin-java classes where applicable\n"
     ]
    }
   ],
   "source": [
    "spark = SparkSession.builder \\\n",
    "    .master(\"local[*]\") \\\n",
    "    .appName('test') \\\n",
    "    .getOrCreate()"
   ]
  },
  {
   "cell_type": "code",
   "execution_count": 3,
   "metadata": {},
   "outputs": [],
   "source": [
    "!head -n 1001 fhvhv_tripdata_2021-01.csv > head.csv"
   ]
  },
  {
   "cell_type": "code",
   "execution_count": 4,
   "metadata": {},
   "outputs": [],
   "source": [
    "import pandas as pd\n",
    "pd.DataFrame.iteritems = pd.DataFrame.items"
   ]
  },
  {
   "cell_type": "code",
   "execution_count": 5,
   "metadata": {},
   "outputs": [],
   "source": [
    "df_pandas = pd.read_csv('head.csv')"
   ]
  },
  {
   "cell_type": "code",
   "execution_count": 6,
   "metadata": {},
   "outputs": [
    {
     "data": {
      "text/plain": [
       "hvfhs_license_num        object\n",
       "dispatching_base_num     object\n",
       "pickup_datetime          object\n",
       "dropoff_datetime         object\n",
       "PULocationID              int64\n",
       "DOLocationID              int64\n",
       "SR_Flag                 float64\n",
       "dtype: object"
      ]
     },
     "execution_count": 6,
     "metadata": {},
     "output_type": "execute_result"
    }
   ],
   "source": [
    "df_pandas.dtypes"
   ]
  },
  {
   "cell_type": "code",
   "execution_count": 7,
   "metadata": {},
   "outputs": [
    {
     "data": {
      "text/plain": [
       "StructType([StructField('hvfhs_license_num', StringType(), True), StructField('dispatching_base_num', StringType(), True), StructField('pickup_datetime', StringType(), True), StructField('dropoff_datetime', StringType(), True), StructField('PULocationID', LongType(), True), StructField('DOLocationID', LongType(), True), StructField('SR_Flag', DoubleType(), True)])"
      ]
     },
     "execution_count": 7,
     "metadata": {},
     "output_type": "execute_result"
    }
   ],
   "source": [
    "spark.createDataFrame(df_pandas).schema"
   ]
  },
  {
   "cell_type": "code",
   "execution_count": 34,
   "metadata": {},
   "outputs": [],
   "source": [
    "from pyspark.sql.types import StructType, StructType, StructField, StringType, IntegerType, TimestampType, BooleanType"
   ]
  },
  {
   "cell_type": "code",
   "execution_count": 9,
   "metadata": {},
   "outputs": [],
   "source": [
    "schema = StructType([\n",
    "    StructField('hvfhs_license_num', StringType(), True),\n",
    "    StructField('dispatching_base_num', StringType(), True),\n",
    "    StructField('pickup_datetime', TimestampType(), True),\n",
    "    StructField('dropoff_datetime', TimestampType(), True),\n",
    "    StructField('PULocationID', IntegerType(), True),\n",
    "    StructField('DOLocationID', IntegerType(), True),\n",
    "    StructField('SR_Flag', StringType(), True)\n",
    "])"
   ]
  },
  {
   "cell_type": "code",
   "execution_count": 10,
   "metadata": {},
   "outputs": [],
   "source": [
    "df = spark.read \\\n",
    "    .option(\"header\", \"true\") \\\n",
    "    .schema(schema) \\\n",
    "    .csv('head.csv')"
   ]
  },
  {
   "cell_type": "code",
   "execution_count": 11,
   "metadata": {},
   "outputs": [
    {
     "name": "stderr",
     "output_type": "stream",
     "text": [
      "                                                                                \r"
     ]
    },
    {
     "data": {
      "text/plain": [
       "[Row(hvfhs_license_num='HV0003', dispatching_base_num='B02682', pickup_datetime=datetime.datetime(2021, 1, 1, 0, 33, 44), dropoff_datetime=datetime.datetime(2021, 1, 1, 0, 49, 7), PULocationID=230, DOLocationID=166, SR_Flag=None),\n",
       " Row(hvfhs_license_num='HV0003', dispatching_base_num='B02682', pickup_datetime=datetime.datetime(2021, 1, 1, 0, 55, 19), dropoff_datetime=datetime.datetime(2021, 1, 1, 1, 18, 21), PULocationID=152, DOLocationID=167, SR_Flag=None),\n",
       " Row(hvfhs_license_num='HV0003', dispatching_base_num='B02764', pickup_datetime=datetime.datetime(2021, 1, 1, 0, 23, 56), dropoff_datetime=datetime.datetime(2021, 1, 1, 0, 38, 5), PULocationID=233, DOLocationID=142, SR_Flag=None),\n",
       " Row(hvfhs_license_num='HV0003', dispatching_base_num='B02764', pickup_datetime=datetime.datetime(2021, 1, 1, 0, 42, 51), dropoff_datetime=datetime.datetime(2021, 1, 1, 0, 45, 50), PULocationID=142, DOLocationID=143, SR_Flag=None),\n",
       " Row(hvfhs_license_num='HV0003', dispatching_base_num='B02764', pickup_datetime=datetime.datetime(2021, 1, 1, 0, 48, 14), dropoff_datetime=datetime.datetime(2021, 1, 1, 1, 8, 42), PULocationID=143, DOLocationID=78, SR_Flag=None)]"
      ]
     },
     "execution_count": 11,
     "metadata": {},
     "output_type": "execute_result"
    }
   ],
   "source": [
    "df.head(5)"
   ]
  },
  {
   "cell_type": "code",
   "execution_count": 13,
   "metadata": {},
   "outputs": [],
   "source": [
    "df = df.repartition(24)"
   ]
  },
  {
   "cell_type": "code",
   "execution_count": 14,
   "metadata": {},
   "outputs": [
    {
     "name": "stderr",
     "output_type": "stream",
     "text": [
      "                                                                                \r"
     ]
    }
   ],
   "source": [
    "df.write.parquet(\"fhvhv/2021/01\")"
   ]
  },
  {
   "cell_type": "code",
   "execution_count": null,
   "metadata": {},
   "outputs": [
    {
     "data": {
      "text/plain": [
       "DataFrame[hvfhs_license_num: string, dispatching_base_num: string, pickup_datetime: timestamp, dropoff_datetime: timestamp, PULocationID: int, DOLocationID: int, SR_Flag: string]"
      ]
     },
     "execution_count": 30,
     "metadata": {},
     "output_type": "execute_result"
    }
   ],
   "source": [
    "df = spark.read.parquet(\"fhvhv/2021/01\")\n",
    "df\n"
   ]
  },
  {
   "cell_type": "code",
   "execution_count": 36,
   "metadata": {},
   "outputs": [],
   "source": [
    "def isodd(PULocationID):\n",
    "    return PULocationID % 2 != 0\n",
    "\n",
    "udf = f.udf(isodd, returnType=BooleanType())"
   ]
  },
  {
   "cell_type": "code",
   "execution_count": 38,
   "metadata": {},
   "outputs": [
    {
     "name": "stderr",
     "output_type": "stream",
     "text": [
      "[Stage 14:>                                                         (0 + 1) / 1]\r"
     ]
    },
    {
     "name": "stdout",
     "output_type": "stream",
     "text": [
      "+-----------+------------+------------+----------------+------------+\n",
      "|pickup_date|dropoff_date|PULocationID|PULocationID_odd|DOLocationID|\n",
      "+-----------+------------+------------+----------------+------------+\n",
      "| 2021-01-01|  2021-01-01|         137|            true|          33|\n",
      "| 2021-01-01|  2021-01-01|           4|           false|         145|\n",
      "| 2021-01-01|  2021-01-01|         116|           false|          18|\n",
      "| 2021-01-01|  2021-01-01|         168|           false|         265|\n",
      "| 2021-01-01|  2021-01-01|          60|           false|         126|\n",
      "| 2021-01-01|  2021-01-01|         263|            true|         144|\n",
      "| 2021-01-01|  2021-01-01|         163|            true|         164|\n",
      "| 2021-01-01|  2021-01-01|         262|           false|         263|\n",
      "| 2021-01-01|  2021-01-01|         230|           false|          48|\n",
      "| 2021-01-01|  2021-01-01|         254|           false|         182|\n",
      "| 2021-01-01|  2021-01-01|          61|            true|         177|\n",
      "| 2021-01-01|  2021-01-01|          19|            true|          19|\n",
      "| 2021-01-01|  2021-01-01|          22|           false|         227|\n",
      "| 2021-01-01|  2021-01-01|          79|            true|         249|\n",
      "| 2021-01-01|  2021-01-01|         230|           false|         237|\n",
      "| 2021-01-01|  2021-01-01|         225|            true|          36|\n",
      "| 2021-01-01|  2021-01-01|         188|           false|          89|\n",
      "| 2021-01-01|  2021-01-01|          37|            true|          35|\n",
      "| 2021-01-01|  2021-01-01|         170|           false|          79|\n",
      "| 2021-01-01|  2021-01-01|         235|            true|         129|\n",
      "+-----------+------------+------------+----------------+------------+\n",
      "only showing top 20 rows\n",
      "\n"
     ]
    },
    {
     "name": "stderr",
     "output_type": "stream",
     "text": [
      "                                                                                \r"
     ]
    }
   ],
   "source": [
    "from pyspark.sql import functions as f\n",
    "df \\\n",
    "    .withColumn('pickup_date', f.to_date(df.pickup_datetime)) \\\n",
    "    .withColumn('dropoff_date', f.to_date(df.dropoff_datetime)) \\\n",
    "    .withColumn('PULocationID_odd', udf(df.PULocationID)) \\\n",
    "    .select('pickup_date', 'dropoff_date', 'PULocationID', 'PULocationID_odd', 'DOLocationID') \\\n",
    "    .show()"
   ]
  },
  {
   "cell_type": "code",
   "execution_count": 21,
   "metadata": {},
   "outputs": [
    {
     "name": "stdout",
     "output_type": "stream",
     "text": [
      "+-------------------+-------------------+------------+------------+\n",
      "|    pickup_datetime|   dropoff_datetime|PULocationID|DOLocationID|\n",
      "+-------------------+-------------------+------------+------------+\n",
      "|2021-01-01 00:58:37|2021-01-01 01:12:59|         137|          33|\n",
      "|2021-01-01 00:00:36|2021-01-01 00:38:56|         168|         265|\n",
      "|2021-01-01 00:55:13|2021-01-01 01:04:15|          60|         126|\n",
      "|2021-01-01 00:31:42|2021-01-01 00:48:27|         263|         144|\n",
      "|2021-01-01 00:23:28|2021-01-01 00:30:26|         230|          48|\n",
      "|2021-01-01 00:53:51|2021-01-01 01:10:58|         254|         182|\n",
      "|2021-01-01 00:55:03|2021-01-01 01:12:41|          61|         177|\n",
      "|2021-01-01 00:23:59|2021-01-01 00:24:09|          19|          19|\n",
      "|2021-01-01 00:37:19|2021-01-01 00:50:12|          22|         227|\n",
      "|2021-01-01 00:10:22|2021-01-01 00:17:05|          79|         249|\n",
      "|2021-01-01 00:46:05|2021-01-01 00:56:03|         230|         237|\n",
      "|2021-01-01 00:41:54|2021-01-01 00:51:39|         225|          36|\n",
      "|2021-01-01 00:08:23|2021-01-01 00:18:26|         188|          89|\n",
      "|2021-01-01 00:55:00|2021-01-01 01:03:33|         170|          79|\n",
      "|2021-01-01 00:40:46|2021-01-01 01:08:08|         235|         129|\n",
      "|2021-01-01 00:17:16|2021-01-01 00:26:45|         248|         169|\n",
      "|2021-01-01 00:32:56|2021-01-01 00:40:34|         140|          75|\n",
      "|2021-01-01 00:33:43|2021-01-01 00:47:52|         255|          61|\n",
      "|2021-01-01 00:23:06|2021-01-01 00:52:07|          75|          18|\n",
      "|2021-01-01 00:35:27|2021-01-01 00:43:19|         263|         236|\n",
      "+-------------------+-------------------+------------+------------+\n",
      "only showing top 20 rows\n",
      "\n"
     ]
    }
   ],
   "source": [
    "df.select('pickup_datetime', 'dropoff_datetime', 'PULocationID', 'DOLocationID') \\\n",
    "  .where(df.hvfhs_license_num == 'HV0003') \\\n",
    "  .show()"
   ]
  },
  {
   "cell_type": "code",
   "execution_count": null,
   "metadata": {},
   "outputs": [],
   "source": []
  }
 ],
 "metadata": {
  "kernelspec": {
   "display_name": "Python 3 (ipykernel)",
   "language": "python",
   "name": "python3"
  },
  "language_info": {
   "codemirror_mode": {
    "name": "ipython",
    "version": 3
   },
   "file_extension": ".py",
   "mimetype": "text/x-python",
   "name": "python",
   "nbconvert_exporter": "python",
   "pygments_lexer": "ipython3",
   "version": "3.8.10"
  }
 },
 "nbformat": 4,
 "nbformat_minor": 2
}
